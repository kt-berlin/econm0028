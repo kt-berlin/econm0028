#!/usr/bin/env python3
# -*- coding: utf-8 -*-
"""
Markets and Competition
Topic 4 - Network Externalities

Code to simulate standards battle model from topic 4, video 2


@author: Kevin Tran
"""

#%% Settings
# Utility from preferred type
u = 10

# Number of A types
N_A = 100
# Number of B types
N_B = 100

#%% Load packages
import random
#random.seed(19022024)
import pandas as pd

#%% Start

# Create list of consumers to draw from
list_cons = ['A'] * N_A + ['B'] * N_B

# Loop through list and draw. Save choices in list
list_choices = []
list_cons_save = []
list_nA = []
list_nB = []
while len(list_cons) > 0:
    # Draw consumers
    cons = list_cons.pop(random.randrange(len(list_cons)))
    # Check number of cons
    n_A = sum([x == 'A' for x in list_choices])
    n_B = sum([x == 'B' for x in list_choices])
    # Utility
    if cons == 'A':
        u_A = u + n_A
        u_B = n_B
    else:
        u_A = n_A
        u_B = u + n_B
        
    # Maximise utility
    if u_A > u_B:
        choice = 'A'
    elif u_A < u_B:
        choice = 'B'
    else:
        choice = random.choice(['A', 'B'])
        
    list_choices.append(choice)
    list_cons_save.append(cons)
    # Check number of cons and save
    n_A = sum([x == 'A' for x in list_choices])
    n_B = sum([x == 'B' for x in list_choices])
    list_nA.append(n_A)
    list_nB.append(n_B)
    
    print(f'Type {cons} chooses {choice}.')
    
# Create DataFrame
df = pd.DataFrame({
    'type': list_cons_save, 
    'choice': list_choices,
    'nA': list_nA,
    'nB': list_nB}) \
    .reset_index().rename(columns = {'index': 'period'})
    
# Plot
df.plot(x = 'period', y = ['nA', 'nB'])

